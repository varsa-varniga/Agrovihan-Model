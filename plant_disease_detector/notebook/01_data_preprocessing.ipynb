{
 "cells": [
  {
   "cell_type": "code",
   "execution_count": 2,
   "id": "1e5b61b9",
   "metadata": {},
   "outputs": [
    {
     "name": "stdout",
     "output_type": "stream",
     "text": [
      "Found 2364 images belonging to 18 classes.\n",
      "Found 588 images belonging to 18 classes.\n",
      "\n",
      "Class Indices: {'01_healthy_paddy': 0, '02_leaf_blast_paddy': 1, '03_bacterial_leaf_blight_paddy': 2, '04_healthy_banana': 3, '05_cordana_banana': 4, '06_sigatoka_banana': 5, '07_Healthy_sugarcane': 6, '08_Mosaic_sugarcane': 7, '09_RedRot_sugarcane': 8, '10_healthy_leaf_groundnut': 9, '11_early_leaf_spot_groundnut': 10, '12_Rust_groundnut': 11, '13_Healthy blackgram': 12, '14_Yellow Mosaic blackgram': 13, '15_Powdery_Mildew_blackgram': 14, '16_tomato_healthy': 15, '17_Tomato_Yellow_Leaf_Curl_Virus': 16, '18_Early_blight_tomato': 17}\n",
      "Total training images: 2364\n",
      "Total validation images: 588\n"
     ]
    }
   ],
   "source": [
    "import tensorflow as tf\n",
    "from tensorflow.keras.preprocessing.image import ImageDataGenerator\n",
    "import os\n",
    "\n",
    "# Set the path to the dataset\n",
    "dataset_path = '../dataset/'  # Make sure this path is correct\n",
    "\n",
    "# Set image size (MobileNetV2 expects 224x224)\n",
    "img_height, img_width = 224, 224\n",
    "\n",
    "# Set a random seed for reproducibility\n",
    "SEED = 42\n",
    "\n",
    "# Data augmentation for training (enhanced with more variations)\n",
    "train_datagen = ImageDataGenerator(\n",
    "    rescale=1./255,  # Rescaling pixel values to [0, 1]\n",
    "    rotation_range=40,  # Increased rotation for more variety\n",
    "    width_shift_range=0.3,  # Increased width shift\n",
    "    height_shift_range=0.3,  # Increased height shift\n",
    "    shear_range=0.3,  # Increased shear for more randomness\n",
    "    zoom_range=0.3,  # More zoom variation\n",
    "    horizontal_flip=True,  # Horizontal flip for variety\n",
    "    fill_mode='nearest',  # Filling newly created pixels during transformations\n",
    "    validation_split=0.2,  # Split for validation data\n",
    "    brightness_range=[0.7, 1.3],  # Variations in brightness for robustness\n",
    "    channel_shift_range=20.0  # Random channel shift (color variations)\n",
    ")\n",
    "\n",
    "# Only rescaling for validation (no augmentation during validation)\n",
    "val_datagen = ImageDataGenerator(\n",
    "    rescale=1./255,  # Only rescaling for validation\n",
    "    validation_split=0.2  # Same validation split\n",
    ")\n",
    "\n",
    "# Load training data (with augmentation applied)\n",
    "train_generator = train_datagen.flow_from_directory(\n",
    "    directory=dataset_path,\n",
    "    target_size=(img_height, img_width),\n",
    "    batch_size=32,\n",
    "    class_mode='categorical',\n",
    "    shuffle=True,\n",
    "    subset='training',  # Training data subset\n",
    "    seed=SEED,\n",
    "    interpolation='bilinear'\n",
    ")\n",
    "\n",
    "# Load validation data (no augmentation, only rescaling)\n",
    "validation_generator = val_datagen.flow_from_directory(\n",
    "    directory=dataset_path,\n",
    "    target_size=(img_height, img_width),\n",
    "    batch_size=32,\n",
    "    class_mode='categorical',\n",
    "    shuffle=False,  # No shuffle for validation\n",
    "    subset='validation',  # Validation data subset\n",
    "    seed=SEED,\n",
    "    interpolation='bilinear'\n",
    ")\n",
    "\n",
    "# ✅ Optional: Print class labels and sample counts\n",
    "print(\"\\nClass Indices:\", train_generator.class_indices)\n",
    "print(\"Total training images:\", train_generator.samples)\n",
    "print(\"Total validation images:\", validation_generator.samples)\n",
    "\n"
   ]
  },
  {
   "cell_type": "code",
   "execution_count": 9,
   "id": "aa6c9234",
   "metadata": {},
   "outputs": [
    {
     "name": "stdout",
     "output_type": "stream",
     "text": [
      "Requirement already satisfied: tensorflow in c:\\users\\varsa\\anaconda3\\envs\\plantvillage\\lib\\site-packages (2.19.0)\n",
      "Requirement already satisfied: absl-py>=1.0.0 in c:\\users\\varsa\\anaconda3\\envs\\plantvillage\\lib\\site-packages (from tensorflow) (2.2.2)\n",
      "Requirement already satisfied: astunparse>=1.6.0 in c:\\users\\varsa\\anaconda3\\envs\\plantvillage\\lib\\site-packages (from tensorflow) (1.6.3)\n",
      "Requirement already satisfied: flatbuffers>=24.3.25 in c:\\users\\varsa\\anaconda3\\envs\\plantvillage\\lib\\site-packages (from tensorflow) (25.2.10)\n",
      "Requirement already satisfied: gast!=0.5.0,!=0.5.1,!=0.5.2,>=0.2.1 in c:\\users\\varsa\\anaconda3\\envs\\plantvillage\\lib\\site-packages (from tensorflow) (0.6.0)\n",
      "Requirement already satisfied: google-pasta>=0.1.1 in c:\\users\\varsa\\anaconda3\\envs\\plantvillage\\lib\\site-packages (from tensorflow) (0.2.0)\n",
      "Requirement already satisfied: libclang>=13.0.0 in c:\\users\\varsa\\anaconda3\\envs\\plantvillage\\lib\\site-packages (from tensorflow) (18.1.1)\n",
      "Requirement already satisfied: opt-einsum>=2.3.2 in c:\\users\\varsa\\anaconda3\\envs\\plantvillage\\lib\\site-packages (from tensorflow) (3.4.0)\n",
      "Requirement already satisfied: packaging in c:\\users\\varsa\\anaconda3\\envs\\plantvillage\\lib\\site-packages (from tensorflow) (24.2)\n",
      "Requirement already satisfied: protobuf!=4.21.0,!=4.21.1,!=4.21.2,!=4.21.3,!=4.21.4,!=4.21.5,<6.0.0dev,>=3.20.3 in c:\\users\\varsa\\anaconda3\\envs\\plantvillage\\lib\\site-packages (from tensorflow) (5.29.4)\n",
      "Requirement already satisfied: requests<3,>=2.21.0 in c:\\users\\varsa\\anaconda3\\envs\\plantvillage\\lib\\site-packages (from tensorflow) (2.32.3)\n",
      "Requirement already satisfied: setuptools in c:\\users\\varsa\\anaconda3\\envs\\plantvillage\\lib\\site-packages (from tensorflow) (75.8.0)\n",
      "Requirement already satisfied: six>=1.12.0 in c:\\users\\varsa\\anaconda3\\envs\\plantvillage\\lib\\site-packages (from tensorflow) (1.17.0)\n",
      "Requirement already satisfied: termcolor>=1.1.0 in c:\\users\\varsa\\anaconda3\\envs\\plantvillage\\lib\\site-packages (from tensorflow) (3.0.1)\n",
      "Requirement already satisfied: typing-extensions>=3.6.6 in c:\\users\\varsa\\anaconda3\\envs\\plantvillage\\lib\\site-packages (from tensorflow) (4.13.2)\n",
      "Requirement already satisfied: wrapt>=1.11.0 in c:\\users\\varsa\\anaconda3\\envs\\plantvillage\\lib\\site-packages (from tensorflow) (1.17.2)\n",
      "Requirement already satisfied: grpcio<2.0,>=1.24.3 in c:\\users\\varsa\\anaconda3\\envs\\plantvillage\\lib\\site-packages (from tensorflow) (1.71.0)\n",
      "Requirement already satisfied: tensorboard~=2.19.0 in c:\\users\\varsa\\anaconda3\\envs\\plantvillage\\lib\\site-packages (from tensorflow) (2.19.0)\n",
      "Requirement already satisfied: keras>=3.5.0 in c:\\users\\varsa\\anaconda3\\envs\\plantvillage\\lib\\site-packages (from tensorflow) (3.9.2)\n",
      "Requirement already satisfied: numpy<2.2.0,>=1.26.0 in c:\\users\\varsa\\anaconda3\\envs\\plantvillage\\lib\\site-packages (from tensorflow) (2.0.2)\n",
      "Requirement already satisfied: h5py>=3.11.0 in c:\\users\\varsa\\anaconda3\\envs\\plantvillage\\lib\\site-packages (from tensorflow) (3.13.0)\n",
      "Requirement already satisfied: ml-dtypes<1.0.0,>=0.5.1 in c:\\users\\varsa\\anaconda3\\envs\\plantvillage\\lib\\site-packages (from tensorflow) (0.5.1)\n",
      "Requirement already satisfied: tensorflow-io-gcs-filesystem>=0.23.1 in c:\\users\\varsa\\anaconda3\\envs\\plantvillage\\lib\\site-packages (from tensorflow) (0.31.0)\n",
      "Requirement already satisfied: wheel<1.0,>=0.23.0 in c:\\users\\varsa\\anaconda3\\envs\\plantvillage\\lib\\site-packages (from astunparse>=1.6.0->tensorflow) (0.45.1)\n",
      "Requirement already satisfied: rich in c:\\users\\varsa\\anaconda3\\envs\\plantvillage\\lib\\site-packages (from keras>=3.5.0->tensorflow) (14.0.0)\n",
      "Requirement already satisfied: namex in c:\\users\\varsa\\anaconda3\\envs\\plantvillage\\lib\\site-packages (from keras>=3.5.0->tensorflow) (0.0.8)\n",
      "Requirement already satisfied: optree in c:\\users\\varsa\\anaconda3\\envs\\plantvillage\\lib\\site-packages (from keras>=3.5.0->tensorflow) (0.15.0)\n",
      "Requirement already satisfied: charset-normalizer<4,>=2 in c:\\users\\varsa\\anaconda3\\envs\\plantvillage\\lib\\site-packages (from requests<3,>=2.21.0->tensorflow) (3.4.1)\n",
      "Requirement already satisfied: idna<4,>=2.5 in c:\\users\\varsa\\anaconda3\\envs\\plantvillage\\lib\\site-packages (from requests<3,>=2.21.0->tensorflow) (3.10)\n",
      "Requirement already satisfied: urllib3<3,>=1.21.1 in c:\\users\\varsa\\anaconda3\\envs\\plantvillage\\lib\\site-packages (from requests<3,>=2.21.0->tensorflow) (2.4.0)\n",
      "Requirement already satisfied: certifi>=2017.4.17 in c:\\users\\varsa\\anaconda3\\envs\\plantvillage\\lib\\site-packages (from requests<3,>=2.21.0->tensorflow) (2025.1.31)\n",
      "Requirement already satisfied: markdown>=2.6.8 in c:\\users\\varsa\\anaconda3\\envs\\plantvillage\\lib\\site-packages (from tensorboard~=2.19.0->tensorflow) (3.8)\n",
      "Requirement already satisfied: tensorboard-data-server<0.8.0,>=0.7.0 in c:\\users\\varsa\\anaconda3\\envs\\plantvillage\\lib\\site-packages (from tensorboard~=2.19.0->tensorflow) (0.7.2)\n",
      "Requirement already satisfied: werkzeug>=1.0.1 in c:\\users\\varsa\\anaconda3\\envs\\plantvillage\\lib\\site-packages (from tensorboard~=2.19.0->tensorflow) (3.1.3)\n",
      "Requirement already satisfied: importlib-metadata>=4.4 in c:\\users\\varsa\\anaconda3\\envs\\plantvillage\\lib\\site-packages (from markdown>=2.6.8->tensorboard~=2.19.0->tensorflow) (8.6.1)\n",
      "Requirement already satisfied: MarkupSafe>=2.1.1 in c:\\users\\varsa\\anaconda3\\envs\\plantvillage\\lib\\site-packages (from werkzeug>=1.0.1->tensorboard~=2.19.0->tensorflow) (3.0.2)\n",
      "Requirement already satisfied: markdown-it-py>=2.2.0 in c:\\users\\varsa\\anaconda3\\envs\\plantvillage\\lib\\site-packages (from rich->keras>=3.5.0->tensorflow) (3.0.0)\n",
      "Requirement already satisfied: pygments<3.0.0,>=2.13.0 in c:\\users\\varsa\\anaconda3\\envs\\plantvillage\\lib\\site-packages (from rich->keras>=3.5.0->tensorflow) (2.19.1)\n",
      "Requirement already satisfied: zipp>=3.20 in c:\\users\\varsa\\anaconda3\\envs\\plantvillage\\lib\\site-packages (from importlib-metadata>=4.4->markdown>=2.6.8->tensorboard~=2.19.0->tensorflow) (3.21.0)\n",
      "Requirement already satisfied: mdurl~=0.1 in c:\\users\\varsa\\anaconda3\\envs\\plantvillage\\lib\\site-packages (from markdown-it-py>=2.2.0->rich->keras>=3.5.0->tensorflow) (0.1.2)\n"
     ]
    }
   ],
   "source": [
    "!pip install tensorflow\n"
   ]
  },
  {
   "cell_type": "code",
   "execution_count": 10,
   "id": "8b9338e7",
   "metadata": {},
   "outputs": [
    {
     "name": "stdout",
     "output_type": "stream",
     "text": [
      "{'Banana': 0, 'Blackgram': 1, 'Groundnut': 2, 'Paddy': 3, 'Sugarcane': 4, 'Tomato': 5}\n"
     ]
    }
   ],
   "source": [
    "print(train_generator.class_indices)\n"
   ]
  },
  {
   "cell_type": "code",
   "execution_count": null,
   "id": "ebf8f9d5",
   "metadata": {},
   "outputs": [],
   "source": []
  },
  {
   "cell_type": "code",
   "execution_count": null,
   "id": "e2276ee9",
   "metadata": {},
   "outputs": [],
   "source": []
  }
 ],
 "metadata": {
  "kernelspec": {
   "display_name": "plantvillage",
   "language": "python",
   "name": "python3"
  },
  "language_info": {
   "codemirror_mode": {
    "name": "ipython",
    "version": 3
   },
   "file_extension": ".py",
   "mimetype": "text/x-python",
   "name": "python",
   "nbconvert_exporter": "python",
   "pygments_lexer": "ipython3",
   "version": "3.9.21"
  }
 },
 "nbformat": 4,
 "nbformat_minor": 5
}
